{
 "cells": [
  {
   "cell_type": "code",
   "execution_count": 1,
   "id": "fafb35f2-11f3-4519-9836-747b0da89b8c",
   "metadata": {},
   "outputs": [],
   "source": [
    "import pandas as pd\n",
    "import numpy as np\n",
    "\n",
    "from sklearn.ensemble import RandomForestClassifier\n",
    "\n",
    "from sklearn.metrics import confusion_matrix"
   ]
  },
  {
   "cell_type": "code",
   "execution_count": 2,
   "id": "a0b8b5a9-5d8f-4b9d-939c-d2a50722a977",
   "metadata": {},
   "outputs": [],
   "source": [
    "folder = \"all_ex_audiofileS/\"\n",
    "df_train = pd.read_csv(folder + \"output.csv\")\n",
    "df_test = pd.read_csv(\"audiofileS.csv\")"
   ]
  },
  {
   "cell_type": "code",
   "execution_count": 3,
   "id": "e716cffe",
   "metadata": {
    "scrolled": true
   },
   "outputs": [],
   "source": [
    "name_file = df_test[df_test.columns[1:3]]"
   ]
  },
  {
   "cell_type": "code",
   "execution_count": 4,
   "id": "d1f0288b-ed26-4002-a0c1-2bccb89343ed",
   "metadata": {},
   "outputs": [],
   "source": [
    "df_train.drop([\"Kind\",\"Name\",\"File\",\"CountLineInactive\",\"CountLinePreprocessor\",\"CountPath\",\"Cyclomatic\",\"CyclomaticModified\",\"Essential\",\"Knots\",\"MaxEssentialKnots\",\"MinEssentialKnots\"], axis='columns', inplace=True)"
   ]
  },
  {
   "cell_type": "code",
   "execution_count": 5,
   "id": "fe99d6f1",
   "metadata": {},
   "outputs": [],
   "source": [
    "df_test.drop([\"Kind\",\"Name\",\"File\",\"CountLineInactive\",\"CountLinePreprocessor\",\"CountPath\",\"Cyclomatic\",\"CyclomaticModified\",\"Essential\",\"Knots\",\"MaxEssentialKnots\",\"MinEssentialKnots\"], axis='columns', inplace=True)"
   ]
  },
  {
   "cell_type": "code",
   "execution_count": 6,
   "id": "434c6d81-4c16-46ef-b19d-f6affc58658f",
   "metadata": {},
   "outputs": [],
   "source": [
    "train_features = df_train.drop('INJECTED', axis=1)\n",
    "train_target = df_train['INJECTED'].astype(bool)"
   ]
  },
  {
   "cell_type": "code",
   "execution_count": 7,
   "id": "04cadcaa",
   "metadata": {},
   "outputs": [],
   "source": [
    "test_features = df_test.drop('INJECTED', axis=1)\n",
    "test_target = df_test['INJECTED'].astype(bool)"
   ]
  },
  {
   "cell_type": "code",
   "execution_count": 8,
   "id": "abf0db1b",
   "metadata": {},
   "outputs": [
    {
     "name": "stdout",
     "output_type": "stream",
     "text": [
      "24\n"
     ]
    }
   ],
   "source": [
    "count =test_target.sum()\n",
    "print(count)"
   ]
  },
  {
   "cell_type": "code",
   "execution_count": 9,
   "id": "5e0b9f0b-3a8b-4653-979f-823e0330889c",
   "metadata": {},
   "outputs": [],
   "source": [
    "from sklearn.metrics import classification_report"
   ]
  },
  {
   "cell_type": "markdown",
   "id": "8f0e6c10-8c3d-4247-b667-b0be0cb9d678",
   "metadata": {},
   "source": [
    "# RANDOM FOREST CLASSIFIER"
   ]
  },
  {
   "cell_type": "code",
   "execution_count": 10,
   "id": "b7a6ed58-8a01-4e2f-babf-f9acb473d236",
   "metadata": {},
   "outputs": [
    {
     "data": {
      "text/html": [
       "<style>#sk-container-id-1 {color: black;background-color: white;}#sk-container-id-1 pre{padding: 0;}#sk-container-id-1 div.sk-toggleable {background-color: white;}#sk-container-id-1 label.sk-toggleable__label {cursor: pointer;display: block;width: 100%;margin-bottom: 0;padding: 0.3em;box-sizing: border-box;text-align: center;}#sk-container-id-1 label.sk-toggleable__label-arrow:before {content: \"▸\";float: left;margin-right: 0.25em;color: #696969;}#sk-container-id-1 label.sk-toggleable__label-arrow:hover:before {color: black;}#sk-container-id-1 div.sk-estimator:hover label.sk-toggleable__label-arrow:before {color: black;}#sk-container-id-1 div.sk-toggleable__content {max-height: 0;max-width: 0;overflow: hidden;text-align: left;background-color: #f0f8ff;}#sk-container-id-1 div.sk-toggleable__content pre {margin: 0.2em;color: black;border-radius: 0.25em;background-color: #f0f8ff;}#sk-container-id-1 input.sk-toggleable__control:checked~div.sk-toggleable__content {max-height: 200px;max-width: 100%;overflow: auto;}#sk-container-id-1 input.sk-toggleable__control:checked~label.sk-toggleable__label-arrow:before {content: \"▾\";}#sk-container-id-1 div.sk-estimator input.sk-toggleable__control:checked~label.sk-toggleable__label {background-color: #d4ebff;}#sk-container-id-1 div.sk-label input.sk-toggleable__control:checked~label.sk-toggleable__label {background-color: #d4ebff;}#sk-container-id-1 input.sk-hidden--visually {border: 0;clip: rect(1px 1px 1px 1px);clip: rect(1px, 1px, 1px, 1px);height: 1px;margin: -1px;overflow: hidden;padding: 0;position: absolute;width: 1px;}#sk-container-id-1 div.sk-estimator {font-family: monospace;background-color: #f0f8ff;border: 1px dotted black;border-radius: 0.25em;box-sizing: border-box;margin-bottom: 0.5em;}#sk-container-id-1 div.sk-estimator:hover {background-color: #d4ebff;}#sk-container-id-1 div.sk-parallel-item::after {content: \"\";width: 100%;border-bottom: 1px solid gray;flex-grow: 1;}#sk-container-id-1 div.sk-label:hover label.sk-toggleable__label {background-color: #d4ebff;}#sk-container-id-1 div.sk-serial::before {content: \"\";position: absolute;border-left: 1px solid gray;box-sizing: border-box;top: 0;bottom: 0;left: 50%;z-index: 0;}#sk-container-id-1 div.sk-serial {display: flex;flex-direction: column;align-items: center;background-color: white;padding-right: 0.2em;padding-left: 0.2em;position: relative;}#sk-container-id-1 div.sk-item {position: relative;z-index: 1;}#sk-container-id-1 div.sk-parallel {display: flex;align-items: stretch;justify-content: center;background-color: white;position: relative;}#sk-container-id-1 div.sk-item::before, #sk-container-id-1 div.sk-parallel-item::before {content: \"\";position: absolute;border-left: 1px solid gray;box-sizing: border-box;top: 0;bottom: 0;left: 50%;z-index: -1;}#sk-container-id-1 div.sk-parallel-item {display: flex;flex-direction: column;z-index: 1;position: relative;background-color: white;}#sk-container-id-1 div.sk-parallel-item:first-child::after {align-self: flex-end;width: 50%;}#sk-container-id-1 div.sk-parallel-item:last-child::after {align-self: flex-start;width: 50%;}#sk-container-id-1 div.sk-parallel-item:only-child::after {width: 0;}#sk-container-id-1 div.sk-dashed-wrapped {border: 1px dashed gray;margin: 0 0.4em 0.5em 0.4em;box-sizing: border-box;padding-bottom: 0.4em;background-color: white;}#sk-container-id-1 div.sk-label label {font-family: monospace;font-weight: bold;display: inline-block;line-height: 1.2em;}#sk-container-id-1 div.sk-label-container {text-align: center;}#sk-container-id-1 div.sk-container {/* jupyter's `normalize.less` sets `[hidden] { display: none; }` but bootstrap.min.css set `[hidden] { display: none !important; }` so we also need the `!important` here to be able to override the default hidden behavior on the sphinx rendered scikit-learn.org. See: https://github.com/scikit-learn/scikit-learn/issues/21755 */display: inline-block !important;position: relative;}#sk-container-id-1 div.sk-text-repr-fallback {display: none;}</style><div id=\"sk-container-id-1\" class=\"sk-top-container\"><div class=\"sk-text-repr-fallback\"><pre>RandomForestClassifier(class_weight=&#x27;balanced_subsample&#x27;, max_depth=5,\n",
       "                       min_samples_leaf=10)</pre><b>In a Jupyter environment, please rerun this cell to show the HTML representation or trust the notebook. <br />On GitHub, the HTML representation is unable to render, please try loading this page with nbviewer.org.</b></div><div class=\"sk-container\" hidden><div class=\"sk-item\"><div class=\"sk-estimator sk-toggleable\"><input class=\"sk-toggleable__control sk-hidden--visually\" id=\"sk-estimator-id-1\" type=\"checkbox\" checked><label for=\"sk-estimator-id-1\" class=\"sk-toggleable__label sk-toggleable__label-arrow\">RandomForestClassifier</label><div class=\"sk-toggleable__content\"><pre>RandomForestClassifier(class_weight=&#x27;balanced_subsample&#x27;, max_depth=5,\n",
       "                       min_samples_leaf=10)</pre></div></div></div></div></div>"
      ],
      "text/plain": [
       "RandomForestClassifier(class_weight='balanced_subsample', max_depth=5,\n",
       "                       min_samples_leaf=10)"
      ]
     },
     "execution_count": 10,
     "metadata": {},
     "output_type": "execute_result"
    }
   ],
   "source": [
    "rfc = RandomForestClassifier(n_estimators=100,class_weight=\"balanced_subsample\", min_samples_leaf=10, max_depth=5)\n",
    "rfc.fit(train_features, train_target) # RFC"
   ]
  },
  {
   "cell_type": "code",
   "execution_count": 11,
   "id": "6fb6649c-dcf6-48e6-a51c-00611fd94491",
   "metadata": {},
   "outputs": [
    {
     "data": {
      "text/plain": [
       "0.7236391320898363"
      ]
     },
     "execution_count": 11,
     "metadata": {},
     "output_type": "execute_result"
    }
   ],
   "source": [
    "rfc.score(train_features, train_target)"
   ]
  },
  {
   "cell_type": "code",
   "execution_count": 12,
   "id": "bd6a033c-19bf-4293-9a79-6f7df5ef9405",
   "metadata": {},
   "outputs": [
    {
     "data": {
      "text/plain": [
       "0.6829745596868885"
      ]
     },
     "execution_count": 12,
     "metadata": {},
     "output_type": "execute_result"
    }
   ],
   "source": [
    "rfc.score(test_features, test_target)"
   ]
  },
  {
   "cell_type": "code",
   "execution_count": 13,
   "id": "990c07e1-981f-4933-a4f2-6a7f86ab62e4",
   "metadata": {},
   "outputs": [],
   "source": [
    "conf_matrix_train = pd.DataFrame(confusion_matrix(train_target,rfc.predict(train_features)), columns = ['Pred 0', 'Pred 1'], index=['Actual. 0','Actual. 1'])\n"
   ]
  },
  {
   "cell_type": "code",
   "execution_count": 14,
   "id": "8d83cd76-f2e3-4bdf-a147-7d65c7b8f847",
   "metadata": {},
   "outputs": [
    {
     "data": {
      "text/html": [
       "<div>\n",
       "<style scoped>\n",
       "    .dataframe tbody tr th:only-of-type {\n",
       "        vertical-align: middle;\n",
       "    }\n",
       "\n",
       "    .dataframe tbody tr th {\n",
       "        vertical-align: top;\n",
       "    }\n",
       "\n",
       "    .dataframe thead th {\n",
       "        text-align: right;\n",
       "    }\n",
       "</style>\n",
       "<table border=\"1\" class=\"dataframe\">\n",
       "  <thead>\n",
       "    <tr style=\"text-align: right;\">\n",
       "      <th></th>\n",
       "      <th>Pred 0</th>\n",
       "      <th>Pred 1</th>\n",
       "    </tr>\n",
       "  </thead>\n",
       "  <tbody>\n",
       "    <tr>\n",
       "      <th>Actual. 0</th>\n",
       "      <td>341</td>\n",
       "      <td>146</td>\n",
       "    </tr>\n",
       "    <tr>\n",
       "      <th>Actual. 1</th>\n",
       "      <td>16</td>\n",
       "      <td>8</td>\n",
       "    </tr>\n",
       "  </tbody>\n",
       "</table>\n",
       "</div>"
      ],
      "text/plain": [
       "           Pred 0  Pred 1\n",
       "Actual. 0     341     146\n",
       "Actual. 1      16       8"
      ]
     },
     "metadata": {},
     "output_type": "display_data"
    }
   ],
   "source": [
    "#print(confusion_matrix(test_target,rfc.predict(test_features)))\n",
    "conf_matrix_test = pd.DataFrame(confusion_matrix(test_target,rfc.predict(test_features)), columns = ['Pred 0', 'Pred 1'], index=['Actual. 0','Actual. 1'])\n",
    "display(conf_matrix_test)"
   ]
  },
  {
   "cell_type": "code",
   "execution_count": 15,
   "id": "cf7ba72e-09f0-483a-b21c-d07b347e8514",
   "metadata": {},
   "outputs": [
    {
     "name": "stdout",
     "output_type": "stream",
     "text": [
      "              precision    recall  f1-score   support\n",
      "\n",
      "       False       0.96      0.70      0.81       487\n",
      "        True       0.05      0.33      0.09        24\n",
      "\n",
      "    accuracy                           0.68       511\n",
      "   macro avg       0.50      0.52      0.45       511\n",
      "weighted avg       0.91      0.68      0.77       511\n",
      "\n"
     ]
    }
   ],
   "source": [
    "report = classification_report(test_target,rfc.predict(test_features),output_dict=True)\n",
    "\n",
    "print(classification_report(test_target,rfc.predict(test_features)))\n",
    "\n",
    "report_df = pd.DataFrame(report).transpose()\n",
    "#report_df.to_csv(folder + \"results/report.csv\", index=False)"
   ]
  },
  {
   "cell_type": "code",
   "execution_count": 16,
   "id": "07d80d33-31c4-4681-9371-1c5f9dd3d4f6",
   "metadata": {},
   "outputs": [],
   "source": [
    "predictions_df = pd.DataFrame()\n",
    "predictions_df['PREDICTION'] = pd.DataFrame(rfc.predict(test_features))"
   ]
  },
  {
   "cell_type": "code",
   "execution_count": 17,
   "id": "27aa1ca6",
   "metadata": {},
   "outputs": [],
   "source": [
    "results = pd.concat([name_file,test_features,predictions_df],axis=\"columns\")"
   ]
  },
  {
   "cell_type": "code",
   "execution_count": 18,
   "id": "be8ab3bf",
   "metadata": {},
   "outputs": [],
   "source": [
    "#results.to_csv(folder + \"results/final_results.csv\", index=False)"
   ]
  },
  {
   "cell_type": "code",
   "execution_count": null,
   "id": "50bee9cc",
   "metadata": {},
   "outputs": [],
   "source": []
  }
 ],
 "metadata": {
  "kernelspec": {
   "display_name": "Python 3 (ipykernel)",
   "language": "python",
   "name": "python3"
  },
  "language_info": {
   "codemirror_mode": {
    "name": "ipython",
    "version": 3
   },
   "file_extension": ".py",
   "mimetype": "text/x-python",
   "name": "python",
   "nbconvert_exporter": "python",
   "pygments_lexer": "ipython3",
   "version": "3.8.10"
  }
 },
 "nbformat": 4,
 "nbformat_minor": 5
}
